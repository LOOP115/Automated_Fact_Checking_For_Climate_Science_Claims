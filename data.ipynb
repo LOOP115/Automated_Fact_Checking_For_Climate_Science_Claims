{
 "cells": [
  {
   "attachments": {},
   "cell_type": "markdown",
   "metadata": {},
   "source": [
    "This script is used for analyzing distribution of the given dataset."
   ]
  },
  {
   "cell_type": "code",
   "execution_count": 1,
   "metadata": {},
   "outputs": [],
   "source": [
    "%%capture\n",
    "!pip install matplotlib"
   ]
  },
  {
   "cell_type": "code",
   "execution_count": 2,
   "metadata": {},
   "outputs": [],
   "source": [
    "import json\n",
    "import matplotlib.pyplot as plt"
   ]
  },
  {
   "cell_type": "code",
   "execution_count": 3,
   "metadata": {},
   "outputs": [],
   "source": [
    "# If running on Colab, uncomment the following lines\n",
    "# from google.colab import drive\n",
    "# drive.mount('/content/drive')"
   ]
  },
  {
   "cell_type": "code",
   "execution_count": 4,
   "metadata": {},
   "outputs": [],
   "source": [
    "# Global variables\n",
    "\n",
    "data_dir = \"data/\"\n",
    "# Change if on Colab\n",
    "# data_dir = \"drive/MyDrive/data/\"\n",
    "\n",
    "fig_dir = \"figures/\"\n",
    "\n",
    "train_path = f\"{data_dir}train-claims.json\"\n",
    "dev_path = f\"{data_dir}dev-claims.json\"\n",
    "evidence_path = f\"{data_dir}evidence.json\""
   ]
  },
  {
   "cell_type": "code",
   "execution_count": 5,
   "metadata": {},
   "outputs": [],
   "source": [
    "# Load claims, related evidences and labels\n",
    "# If label is False, return only claims and claim ids\n",
    "def load_data(path, label=False):\n",
    "    claimid_list = []\n",
    "    claim_list = []\n",
    "    if label:\n",
    "        evidences_list = []\n",
    "        label_list = []\n",
    "    \n",
    "    with open(path, 'r') as f:\n",
    "        data = json.load(f)\n",
    "    for item in data:\n",
    "        claimid_list.append(item)\n",
    "        claim_list.append(data[item]['claim_text'])\n",
    "        if label:\n",
    "            evidences_list.append(data[item]['evidences'])\n",
    "            label_list.append(data[item]['claim_label'])\n",
    "    \n",
    "    if label:\n",
    "        return claimid_list, claim_list, evidences_list, label_list\n",
    "    return claimid_list, claim_list\n",
    "\n",
    "# Load evidences\n",
    "def load_evidence(path):\n",
    "    evidence_list = []\n",
    "    with open(path, 'r') as f:\n",
    "        data = json.load(f)\n",
    "    for item in data:\n",
    "        evidence_list.append(data[item])\n",
    "    return evidence_list"
   ]
  },
  {
   "cell_type": "code",
   "execution_count": 6,
   "metadata": {},
   "outputs": [],
   "source": [
    "train_claim_ids, train_claims, train_evidences, train_labels = load_data(train_path, label=True)\n",
    "dev_claim_ids, dev_claims, dev_evidences, dev_labels = load_data(dev_path, label=True)\n",
    "evidence_src = load_evidence(evidence_path)"
   ]
  },
  {
   "cell_type": "code",
   "execution_count": 7,
   "metadata": {},
   "outputs": [
    {
     "name": "stdout",
     "output_type": "stream",
     "text": [
      "Number of training claims: 1228\n",
      "Number of development claims: 154\n",
      "Number of claims: 1382\n"
     ]
    }
   ],
   "source": [
    "# Number of claims\n",
    "print(f\"Number of training claims: {len(train_claims)}\")\n",
    "print(f\"Number of development claims: {len(dev_claims)}\")\n",
    "print(f\"Number of claims: {len(train_claims) + len(dev_claims)}\")"
   ]
  },
  {
   "cell_type": "code",
   "execution_count": 8,
   "metadata": {},
   "outputs": [
    {
     "name": "stdout",
     "output_type": "stream",
     "text": [
      "Number of evidences: 1208827\n"
     ]
    }
   ],
   "source": [
    "# Number of evidences\n",
    "print(f\"Number of evidences: {len(evidence_src)}\")"
   ]
  },
  {
   "cell_type": "code",
   "execution_count": 9,
   "metadata": {},
   "outputs": [],
   "source": [
    "# Distribution of labels\n",
    "def label_distribution(labels):\n",
    "    label_dict = {}\n",
    "    for label in labels:\n",
    "        if label in label_dict:\n",
    "            label_dict[label] += 1\n",
    "        else:\n",
    "            label_dict[label] = 1\n",
    "    return label_dict"
   ]
  },
  {
   "cell_type": "code",
   "execution_count": 10,
   "metadata": {},
   "outputs": [],
   "source": [
    "train_label_dist = label_distribution(train_labels)\n",
    "dev_label_dist = label_distribution(dev_labels)\n",
    "label_dist = label_distribution(train_labels + dev_labels)"
   ]
  },
  {
   "cell_type": "code",
   "execution_count": 11,
   "metadata": {},
   "outputs": [
    {
     "data": {
      "text/plain": [
       "{'DISPUTED': 124, 'REFUTES': 199, 'SUPPORTS': 519, 'NOT_ENOUGH_INFO': 386}"
      ]
     },
     "execution_count": 11,
     "metadata": {},
     "output_type": "execute_result"
    }
   ],
   "source": [
    "train_label_dist"
   ]
  },
  {
   "cell_type": "code",
   "execution_count": 12,
   "metadata": {},
   "outputs": [
    {
     "data": {
      "text/plain": [
       "{'SUPPORTS': 68, 'NOT_ENOUGH_INFO': 41, 'REFUTES': 27, 'DISPUTED': 18}"
      ]
     },
     "execution_count": 12,
     "metadata": {},
     "output_type": "execute_result"
    }
   ],
   "source": [
    "dev_label_dist"
   ]
  },
  {
   "cell_type": "code",
   "execution_count": 13,
   "metadata": {},
   "outputs": [
    {
     "data": {
      "text/plain": [
       "{'DISPUTED': 142, 'REFUTES': 226, 'SUPPORTS': 587, 'NOT_ENOUGH_INFO': 427}"
      ]
     },
     "execution_count": 13,
     "metadata": {},
     "output_type": "execute_result"
    }
   ],
   "source": [
    "label_dist"
   ]
  },
  {
   "cell_type": "code",
   "execution_count": 14,
   "metadata": {},
   "outputs": [],
   "source": [
    "# Plot the label distribution\n",
    "def bar_chart(data, save_path=None):\n",
    "    labels = list(data.keys())\n",
    "    values = list(data.values())\n",
    "\n",
    "    plt.bar(labels, values)\n",
    "    plt.title('Distirbution of Labels')\n",
    "    plt.xlabel('Labels')\n",
    "    plt.ylabel('Counts')\n",
    "\n",
    "    plt.savefig(save_path) if save_path is not None else None\n",
    "    plt.show()"
   ]
  },
  {
   "cell_type": "code",
   "execution_count": 15,
   "metadata": {},
   "outputs": [
    {
     "data": {
      "image/png": "[encoded data removed]",
      "text/plain": [
       "<Figure size 640x480 with 1 Axes>"
      ]
     },
     "metadata": {},
     "output_type": "display_data"
    }
   ],
   "source": [
    "bar_chart(train_label_dist, save_path=f\"{fig_dir}train_label_dist.png\")"
   ]
  },
  {
   "cell_type": "code",
   "execution_count": 16,
   "metadata": {},
   "outputs": [],
   "source": [
    "# Count the number of evidences per claim\n",
    "num_ev_claim = list(map(len, train_evidences + dev_evidences))"
   ]
  },
  {
   "cell_type": "code",
   "execution_count": 17,
   "metadata": {},
   "outputs": [
    {
     "data": {
      "text/plain": [
       "5"
      ]
     },
     "execution_count": 17,
     "metadata": {},
     "output_type": "execute_result"
    }
   ],
   "source": [
    "max(num_ev_claim)"
   ]
  },
  {
   "cell_type": "code",
   "execution_count": 18,
   "metadata": {},
   "outputs": [
    {
     "data": {
      "text/plain": [
       "1"
      ]
     },
     "execution_count": 18,
     "metadata": {},
     "output_type": "execute_result"
    }
   ],
   "source": [
    "min(num_ev_claim)"
   ]
  },
  {
   "cell_type": "code",
   "execution_count": 19,
   "metadata": {},
   "outputs": [
    {
     "data": {
      "text/plain": [
       "3.337916063675832"
      ]
     },
     "execution_count": 19,
     "metadata": {},
     "output_type": "execute_result"
    }
   ],
   "source": [
    "sum(num_ev_claim) / len(num_ev_claim)"
   ]
  },
  {
   "cell_type": "code",
   "execution_count": 20,
   "metadata": {},
   "outputs": [
    {
     "data": {
      "text/plain": [
       "'[South Australia] has the most expensive electricity in the world.'"
      ]
     },
     "execution_count": 20,
     "metadata": {},
     "output_type": "execute_result"
    }
   ],
   "source": [
    "dev_claims[0]"
   ]
  },
  {
   "cell_type": "code",
   "execution_count": 21,
   "metadata": {},
   "outputs": [
    {
     "data": {
      "text/plain": [
       "'[citation needed] South Australia has the highest retail price for electricity in the country.'"
      ]
     },
     "execution_count": 21,
     "metadata": {},
     "output_type": "execute_result"
    }
   ],
   "source": [
    "evidence_src[67732]"
   ]
  },
  {
   "cell_type": "code",
   "execution_count": 22,
   "metadata": {},
   "outputs": [
    {
     "data": {
      "text/plain": [
       "'\"South Australia has the highest power prices in the world\".'"
      ]
     },
     "execution_count": 22,
     "metadata": {},
     "output_type": "execute_result"
    }
   ],
   "source": [
    "evidence_src[572512]"
   ]
  },
  {
   "cell_type": "code",
   "execution_count": 23,
   "metadata": {},
   "outputs": [
    {
     "data": {
      "text/plain": [
       "'SUPPORTS'"
      ]
     },
     "execution_count": 23,
     "metadata": {},
     "output_type": "execute_result"
    }
   ],
   "source": [
    "dev_labels[0]"
   ]
  },
  {
   "attachments": {},
   "cell_type": "markdown",
   "metadata": {},
   "source": [
    "End"
   ]
  }
 ],
 "metadata": {
  "kernelspec": {
   "display_name": "nlp",
   "language": "python",
   "name": "python3"
  },
  "language_info": {
   "codemirror_mode": {
    "name": "ipython",
    "version": 3
   },
   "file_extension": ".py",
   "mimetype": "text/x-python",
   "name": "python",
   "nbconvert_exporter": "python",
   "pygments_lexer": "ipython3",
   "version": "3.8.16"
  },
  "orig_nbformat": 4
 },
 "nbformat": 4,
 "nbformat_minor": 2
}
